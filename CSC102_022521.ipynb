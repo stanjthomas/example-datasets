{
  "nbformat": 4,
  "nbformat_minor": 0,
  "metadata": {
    "colab": {
      "name": "CSC102_022521.ipynb",
      "provenance": [],
      "collapsed_sections": [],
      "authorship_tag": "ABX9TyOhnh8DlG+9y6ZRLklDTx85",
      "include_colab_link": true
    },
    "kernelspec": {
      "name": "python3",
      "display_name": "Python 3"
    }
  },
  "cells": [
    {
      "cell_type": "markdown",
      "metadata": {
        "id": "view-in-github",
        "colab_type": "text"
      },
      "source": [
        "<a href=\"https://colab.research.google.com/github/stanjthomas/example-datasets/blob/master/CSC102_022521.ipynb\" target=\"_parent\"><img src=\"https://colab.research.google.com/assets/colab-badge.svg\" alt=\"Open In Colab\"/></a>"
      ]
    },
    {
      "cell_type": "markdown",
      "metadata": {
        "id": "3bZqjrZcC0-j"
      },
      "source": [
        "# Loops\r\n",
        "\r\n",
        "The idea of wanting the computer to repeat a set of steps is a natural one.  We call this looping or iterating.  Python has two language features for implementing loops:  *while* and *for*."
      ]
    },
    {
      "cell_type": "markdown",
      "metadata": {
        "id": "EQ_rVZlLemqg"
      },
      "source": [
        "# Introduction to the 'while' loop\n",
        "\n",
        "How to write a while-loop:\n",
        "- Prior to the while loop - initialize variables that make the initial \"condition\" test True.\n",
        "- write \"while *boolean-condition*:\" \n",
        "    - (indented) statements to be repeated\n",
        "    - at least one statement that will eventually make the *boolean-condition* False\n",
        "- statements that follow the while loop\n"
      ]
    },
    {
      "cell_type": "code",
      "metadata": {
        "id": "-ikcyw3GTRHW"
      },
      "source": [
        "today = \"Thursday\"\n",
        "while today == \"Thursday\":\n",
        "  print(\"Today is\", today)\n",
        "  today = input(\"What day is it?\")"
      ],
      "execution_count": null,
      "outputs": []
    },
    {
      "cell_type": "code",
      "metadata": {
        "id": "AWbOwiZihIqc"
      },
      "source": [
        "# extremely simple example - count from 1 to 1000 in steps of 3, separate values by a single space\n",
        "count = 1\n",
        "while count < 1000:\n",
        "  print(count, end=', ')\n",
        "  count = count + 3\n",
        "\n",
        "print(\"all done\")"
      ],
      "execution_count": null,
      "outputs": []
    },
    {
      "cell_type": "code",
      "metadata": {
        "id": "eUt-p5J_ex0y"
      },
      "source": [
        "# simulate throwing two dice 10 times\n",
        "import random\n",
        "\n",
        "count = 1\n",
        "while count <= 10:\n",
        "  die1 = random.randint(1, 6) \n",
        "  die2 = random.randint(1, 6)\n",
        "  print(\"... next toss ({:d}, {:d})\".format( die1, die2 ))\n",
        "  count = count + 1"
      ],
      "execution_count": null,
      "outputs": []
    },
    {
      "cell_type": "markdown",
      "metadata": {
        "id": "GtjTP2vblCAR"
      },
      "source": [
        "##Working with 2-d tables of data requires using a loop within a loop\n",
        "###Remember multiplication tables?\n",
        "\n",
        "\n"
      ]
    },
    {
      "cell_type": "code",
      "metadata": {
        "id": "y6edJG1PmNT0"
      },
      "source": [
        "# print a multiplication table for the integers 1-20\n",
        "row = 1\n",
        "while row <= 20:\n",
        "   col = 1\n",
        "   while col <= 20:\n",
        "      print(\"{:4d}\".format(row * col), end='')\n",
        "      col = col + 1\n",
        "   print()\n",
        "   row = row + 1"
      ],
      "execution_count": null,
      "outputs": []
    },
    {
      "cell_type": "markdown",
      "metadata": {
        "id": "83OP3yzyp6xm"
      },
      "source": [
        "##The previous examples have all been about while-loops that count.  But while-loops have much more general applications.\n",
        "\n",
        "Let's revise the example of tossing pairs of dice to let the user decide when to stop."
      ]
    },
    {
      "cell_type": "code",
      "metadata": {
        "id": "9oYs0skvqPZx"
      },
      "source": [
        "# example while-loop controlled by user input\n",
        "import random\n",
        "\n",
        "keep_playing = True\n",
        "while keep_playing == True:\n",
        "  die1 = random.randint(1, 6)\n",
        "  die2 = random.randint(1, 6)\n",
        "  print(\"... and you throw ({:d}, {:d})\".format(die1, die2))\n",
        "\n",
        "  response = input(\"Throw again? (y/n) \").lower()\n",
        "  print(\"You typed: \", response)\n",
        "  # keep_playing = (response == 'y')\n",
        "  if response == 'y':\n",
        "    keep_playing = True\n",
        "  else:\n",
        "    keep_playing = False\n",
        "\n",
        "print(\"\\nCome back to our casino any time!\")"
      ],
      "execution_count": null,
      "outputs": []
    },
    {
      "cell_type": "markdown",
      "metadata": {
        "id": "2j6LEWNBsnMs"
      },
      "source": [
        "###and a different type of example\n",
        "\n",
        "Problem:  determine how many years it takes for a deposit to grow to $1,000 given compound interest rate of 5%\n",
        "\n"
      ]
    },
    {
      "cell_type": "code",
      "metadata": {
        "id": "uBPXGnv_tFtx"
      },
      "source": [
        "year = 1\n",
        "interest_rate = 0.05\n",
        "initial_balance = 700.00\n",
        "balance = initial_balance\n",
        "\n",
        "while balance < 1000:\n",
        "  balance = balance + interest_rate * balance\n",
        "  year = year + 1\n",
        "\n",
        "print(\"${:.2f} will grow to ${:.2f} in {:d} years.\".format(initial_balance, balance, year))"
      ],
      "execution_count": null,
      "outputs": []
    },
    {
      "cell_type": "markdown",
      "metadata": {
        "id": "w6dq1ilzJLmR"
      },
      "source": [
        "Let's work on Lab 5.14\r\n",
        "\r\n",
        "Instructions:\r\n",
        "Write a program that takes in a positive integer as input, and outputs a string of 1's and 0's representing the integer in binary. For an integer x, the algorithm is:\r\n",
        "\r\n",
        "As long as x is greater than 0\r\n",
        "   Output x modulo 2 (remainder is either 0 or 1)\r\n",
        "   Assign to x the value of x divided by 2"
      ]
    },
    {
      "cell_type": "code",
      "metadata": {
        "id": "Pu6NlHatJwYC"
      },
      "source": [
        "intValue = int(input(\"Enter an integer: \"))\r\n",
        "\r\n",
        "result = \"\"\r\n",
        "# TODO:  write the loop\r\n",
        "\r\n",
        "print(\"The base 2 representation is: \", result)"
      ],
      "execution_count": null,
      "outputs": []
    },
    {
      "cell_type": "markdown",
      "metadata": {
        "id": "lq05qjxTMKCY"
      },
      "source": [
        "and Let's work on 5.19\r\n",
        "\r\n",
        "Write a program that takes in an integer in the range 11-100 as input. The output is a countdown starting from the integer, and stopping when both output digits are identical.\r\n"
      ]
    },
    {
      "cell_type": "code",
      "metadata": {
        "id": "QGlRqZ0bNE3A"
      },
      "source": [
        "user_num = int(input())\r\n",
        "\r\n",
        "if (user_num < 11) or (user_num > 100):\r\n",
        "    print('Input must be 11-100')\r\n",
        "else:\r\n",
        "    digits_same = False\r\n",
        "    while digits_same == False:\r\n",
        "      print(user_num)\r\n",
        "      # TODO:  check to see if digits in user_num are the same\r\n",
        "      #        then subtract 1"
      ],
      "execution_count": null,
      "outputs": []
    }
  ]
}